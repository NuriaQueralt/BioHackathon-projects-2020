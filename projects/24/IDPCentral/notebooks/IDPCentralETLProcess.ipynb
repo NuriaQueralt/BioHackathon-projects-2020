{
 "cells": [
  {
   "cell_type": "markdown",
   "metadata": {},
   "source": [
    "# Converting Scraped Data into IDPCentral\n",
    "\n",
    "Alasdair J G Gray ([ORCID:0000-0002-5711-4872](http://orcid.org/0000-0002-5711-4872)), _Heriot-Watt University, Edinburgh, UK_\n",
    "\n",
    "Petros Papadopoulos ([ORCID:0000-0002-8110-7576](https://orcid.org/0000-0002-8110-7576)), _Heriot-Watt University, Edinburgh, UK_\n",
    "\n",
    "Ivan Mičetić ([ORCID:0000-0003-1691-8425](https://orcid.org/0000-0003-1691-8425)), _University of Padua, Italy_\n",
    "\n",
    "Andras Hatos ([ORCID:0000-0001-9224-9820](https://orcid.org/0000-0001-9224-9820)), _University of Padua, Italy_\n",
    "\n",
    "## Introduction\n",
    "\n",
    "IDPCentral is the idea of having a central registry of proteins that are known to be disordered.\n",
    "\n",
    "We aim to populate the content of the registry with Bioschemas markup that has been scraped using the BMUSE tool.\n",
    "\n",
    "This notebook goes through the steps of converting the scraped content into the IDPCentral data model."
   ]
  },
  {
   "cell_type": "markdown",
   "metadata": {},
   "source": [
    "### To Dos\n",
    "\n",
    "- ~~Return provenance data to IDPcentral: straightforward add properties from graph~~\n",
    "- ~~Consider changing base namespace for IDPKG graph to either one you own or Wikidata~~\n",
    "  - ~~Is it valid for us to hang our properties off a UniProt ID~~\n",
    "  - ~~If we are using UniProt IDs we need to be consistent in our usage~~\n",
    "  - ~~Using UniProt accession with Bioschemas namespace~~\n",
    "- Add metadata properties and statements\n",
    "  - Do as a separate query\n",
    "  - Encoutering problems creating the intermediary nodes, may be better to put KG in named graph and hang metadata off the graph, alhtough this would lose some of the advantages of mixing the data together in one graph\n",
    "- Retrieve UniProt label for IDPcentral using SPARQLWrapper to make external call and add properties\n",
    "- Do we want to connect to Wikidata IDs?\n",
    "- ~~IDPcentral is not getting updated with entries from mobidb~~\n",
    "- MobiDB data getting mangled by BMUSE (currently testing with manually fixed file)\n",
    "- Invesitage if [rdf-config](https://github.com/dbcls/rdf-config/blob/master/doc/spec.md) can be used to document the generated KG model"
   ]
  },
  {
   "cell_type": "markdown",
   "metadata": {
    "heading_collapsed": true
   },
   "source": [
    "## IDPKG Data Model\n",
    "\n",
    "The IDPKG data model reuses ideas from [Wikidata](https://www.mediawiki.org/wiki/Wikibase/DataModel) whereby every statement loaded contains a provenance link as to where it was acquired.\n",
    "\n",
    "- [ ] Document IDPCentral Model\n",
    "\n",
    "### Identifiers\n",
    "\n",
    "For the identifiers in the KG we are using the UniProt accession with Bioschemas namespace. This produces unique IRIs that are distinct from UniProts. While this means that there is a level of indirection in the integration, it relies on `sameAs` links, it provides the flexibility to choose whether to combine the data."
   ]
  },
  {
   "cell_type": "markdown",
   "metadata": {
    "heading_collapsed": true
   },
   "source": [
    "## Data Sources\n",
    "\n",
    "The following databases have been scraped to populate IDPCentral\n",
    "- [DisProt](https://www.disprot.org/)\n",
    "- [MobiDb](https://mobidb.bio.unipd.it/)\n",
    "- [Protein Ensemble Database](https://proteinensemble.org/)"
   ]
  },
  {
   "cell_type": "markdown",
   "metadata": {},
   "source": [
    "## Conversion using RDFlib\n",
    "\n",
    "This is an attempt to achieve the same functionality without using a triplestore."
   ]
  },
  {
   "cell_type": "markdown",
   "metadata": {},
   "source": [
    "Load in the RDFLib library."
   ]
  },
  {
   "cell_type": "code",
   "execution_count": null,
   "metadata": {},
   "outputs": [],
   "source": [
    "from rdflib import ConjunctiveGraph, Graph"
   ]
  },
  {
   "cell_type": "markdown",
   "metadata": {},
   "source": [
    "Template library used to template queries."
   ]
  },
  {
   "cell_type": "code",
   "execution_count": null,
   "metadata": {},
   "outputs": [],
   "source": [
    "from string import Template"
   ]
  },
  {
   "cell_type": "markdown",
   "metadata": {},
   "source": [
    "Import functions to list files in directory"
   ]
  },
  {
   "cell_type": "code",
   "execution_count": null,
   "metadata": {},
   "outputs": [],
   "source": [
    "from glob import glob"
   ]
  },
  {
   "cell_type": "markdown",
   "metadata": {},
   "source": [
    "Import the ability to create a UUID"
   ]
  },
  {
   "cell_type": "code",
   "execution_count": null,
   "metadata": {},
   "outputs": [],
   "source": [
    "import uuid"
   ]
  },
  {
   "cell_type": "markdown",
   "metadata": {},
   "source": [
    "Prepare query to extract UniProt and DisProt IRIs."
   ]
  },
  {
   "cell_type": "code",
   "execution_count": null,
   "metadata": {},
   "outputs": [],
   "source": [
    "idQuery = \"\"\"\n",
    "PREFIX schema: <https://schema.org/>\n",
    "SELECT ?proteinIRI ?uniprot\n",
    "WHERE {\n",
    "    GRAPH ?g {\n",
    "        ?proteinIRI a schema:Protein ;\n",
    "            schema:sameAs ?uniprot .\n",
    "        FILTER regex(str(?uniprot), \"^(https://www|http://purl).uniprot.org/uniprot/\")\n",
    "    }\n",
    "}\n",
    "\"\"\""
   ]
  },
  {
   "cell_type": "markdown",
   "metadata": {},
   "source": [
    "Templated query for creating the direct properties for the entity, i.e. the data."
   ]
  },
  {
   "cell_type": "code",
   "execution_count": null,
   "metadata": {},
   "outputs": [],
   "source": [
    "createEntityQuery = Template(\"\"\"\n",
    "# Query to convert DisProt scraped data to IDPCentral model\n",
    "# Defensive query: assumes that data does not conform to Protein profile\n",
    "\n",
    "PREFIX bs: <https://bioschemas.org/entity/>\n",
    "PREFIX pav: <http://purl.org/pav/>\n",
    "PREFIX schema: <https://schema.org/>\n",
    "\n",
    "CONSTRUCT {\n",
    "    bs:${bsAccession} a schema:Protein ;\n",
    "        schema:identifier ?identifier ;\n",
    "        schema:name ?name ;\n",
    "        schema:associatedDisease ?associatedDisease ;\n",
    "        schema:description ?description ;\n",
    "        schema:hasSequenceAnnotation ?annotation ;\n",
    "        schema:isEncodedByBioChemEntity ?encodedBy ;\n",
    "        schema:taxonomicRange ?taxonomicRange ;\n",
    "        schema:url ?url ;\n",
    "        schema:alternateName ?alternateName ;\n",
    "        schema:bioChemInteraction ?bioChemInteraction ;\n",
    "        schema:bioChemSimilarity ?bioChemSimilarity ;\n",
    "        schema:hasBioChemEntityPart ?bioChemEntity ;\n",
    "        schema:hasBioPloymerSequence ?sequence ;\n",
    "        schema:hasMolecularFunction ?molFunction ;\n",
    "        schema:hasRepresentation ?representation ;\n",
    "        schema:image ?image ;\n",
    "        schema:isInvolvedInBiologicalProcess ?process ;\n",
    "        schema:isLocatedInSubcellularLocation ?cellularLocation ;\n",
    "        schema:isPartOfBioChemEntity ?parentEntity ;\n",
    "        schema:sameAs ?sameAs , ?s ;\n",
    "        pav:retrievedFrom ?source.\n",
    "}\n",
    "WHERE {\n",
    "    GRAPH ?g {\n",
    "# Bioschemas Minimal Properties\n",
    "        ?s a schema:Protein .\n",
    "        OPTIONAL {?s schema:identifier ?identifier }\n",
    "        OPTIONAL {?s schema:name ?name }\n",
    "## Bioschemas Recommended properties\n",
    "        OPTIONAL {?s schema:associatedDisease ?associatedDisease}\n",
    "        OPTIONAL {?s schema:description ?description}\n",
    "        OPTIONAL {?s schema:hasSequenceAnnotation ?annotation }\n",
    "        OPTIONAL {?s schema:isEncodedByBioChemEntity ?encodedBy}\n",
    "        OPTIONAL {?s schema:taxonomicRange ?taxonomicRange }\n",
    "        OPTIONAL {?s schema:url ?url}\n",
    "## Bioschemas Optional properties\n",
    "        OPTIONAL {?s schema:alternateName ?alternateName}\n",
    "        OPTIONAL {?s schema:bioChemInteraction ?bioChemInteraction}\n",
    "        OPTIONAL {?s schema:bioChemSimilarity ?bioChemSimilarity}\n",
    "        OPTIONAL {?s schema:hasBioChemEntityPart ?bioChemEntity}\n",
    "        OPTIONAL {?s schema:hasBioPloymerSequence ?sequence}\n",
    "        OPTIONAL {?s schema:hasMolecularFunction ?molFunction}\n",
    "        OPTIONAL {?s schema:hasRepresentation ?representation }\n",
    "        OPTIONAL {?s schema:image ?image}\n",
    "        OPTIONAL {?s schema:isInvolvedInBiologicalProcess ?process}\n",
    "        OPTIONAL {?s schema:isLocatedInSubcellularLocation ?cellularLocation}\n",
    "        OPTIONAL {?s schema:isPartOfBioChemEntity ?parentEntity}\n",
    "        OPTIONAL {?s schema:sameAs ?sameAs }\n",
    "    }\n",
    "    ?g pav:retrievedFrom ?source ;\n",
    "            pav:retrievedOn ?date .\n",
    "}\n",
    "\"\"\")"
   ]
  },
  {
   "cell_type": "markdown",
   "metadata": {},
   "source": [
    "Query to retrieve data about annotations"
   ]
  },
  {
   "cell_type": "code",
   "execution_count": null,
   "metadata": {},
   "outputs": [],
   "source": [
    "retrieveAnnotationsQuery = \"\"\"\n",
    "PREFIX schema: <https://schema.org/>\n",
    "CONSTRUCT {\n",
    "  ?s a schema:SequenceAnnotation ;\n",
    "        schema:additionalProperty ?addProp ;\n",
    "        schema:citation ?citation ;\n",
    "        schema:creationMethod ?method ;\n",
    "        schema:description ?description ;\n",
    "        schema:editor ?editor ;\n",
    "        schema:isPartOfBioChemEntity ?bioChemEntity ;\n",
    "        schema:sequenceLocation ?seqLoc .\n",
    "}\n",
    "WHERE {\n",
    "  graph ?g {\n",
    "    ?s a schema:SequenceAnnotation .\n",
    "    OPTIONAL {?s schema:additionalProperty ?addProp }\n",
    "    OPTIONAL {?s schema:citation ?citation }\n",
    "    OPTIONAL {?s schema:creationMethod ?method }\n",
    "    OPTIONAL {?s schema:description ?description }\n",
    "    OPTIONAL {?s schema:editor ?editor }\n",
    "    OPTIONAL {?s schema:isPartOfBioChemEntity ?bioChemEntity }\n",
    "    OPTIONAL {?s schema:sequenceLocation ?seqLoc }\n",
    "  }\n",
    "}\n",
    "\"\"\""
   ]
  },
  {
   "cell_type": "markdown",
   "metadata": {},
   "source": [
    "Retrieve triples about PropertyValues."
   ]
  },
  {
   "cell_type": "code",
   "execution_count": null,
   "metadata": {},
   "outputs": [],
   "source": [
    "retrievePropertyValueQuery = \"\"\"\n",
    "PREFIX schema: <https://schema.org/>\n",
    "CONSTRUCT {\n",
    "    ?s a schema:PropertyValue ;\n",
    "        schema:name ?name ;\n",
    "        schema:value ?value .\n",
    "}\n",
    "where {\n",
    "    graph ?g {\n",
    "        ?s a schema:PropertyValue .\n",
    "        OPTIONAL {?s schema:name ?name }\n",
    "        OPTIONAL {?s schema:value ?value }\n",
    "    }\n",
    "}\n",
    "\"\"\""
   ]
  },
  {
   "cell_type": "markdown",
   "metadata": {},
   "source": [
    "Retrieve triples about SequenceRange."
   ]
  },
  {
   "cell_type": "code",
   "execution_count": null,
   "metadata": {},
   "outputs": [],
   "source": [
    "retrieveSequenceRangeQuery = \"\"\"\n",
    "PREFIX schema: <https://schema.org/>\n",
    "CONSTRUCT {\n",
    "    ?s a schema:SequenceRange ;\n",
    "        schema:rangeStart ?start ;\n",
    "        schema:rangeEnd ?end .\n",
    "}\n",
    "where {\n",
    "    graph ?g {\n",
    "        ?s a schema:SequenceRange .\n",
    "        OPTIONAL {?s schema:rangeStart ?start }\n",
    "        OPTIONAL {?s schema:rangeEnd ?end}\n",
    "    }\n",
    "}\n",
    "\"\"\""
   ]
  },
  {
   "cell_type": "markdown",
   "metadata": {},
   "source": [
    "Templated query for creating the links to the provenance for each statement in the KG."
   ]
  },
  {
   "cell_type": "code",
   "execution_count": null,
   "metadata": {},
   "outputs": [],
   "source": [
    "createEntityProvenanceQuery = Template(\"\"\"\n",
    "PREFIX bs: <https://bioschemas.org/entity/>\n",
    "PREFIX bsp: <https://bioschemas.org/ns/p/>\n",
    "PREFIX bss: <https://bioschemas.org/ns/s/>\n",
    "PREFIX bsr: <https://bioschemas.org/reference/>\n",
    "PREFIX pav: <http://purl.org/pav/>\n",
    "PREFIX prov: <http://www.w3.org/ns/prov#>\n",
    "PREFIX schema: <https://schema.org/>\n",
    "CONSTRUCT {\n",
    "#    bs:${bsAccession} a schema:Protein ;\n",
    "#        schema:identifier ?identifier ;\n",
    "#        schema:name ?name ;\n",
    "#        schema:hasSequenceAnnotation ?annotation ;\n",
    "#        schema:taxonomicRange ?taxonomicRange ;\n",
    "#        schema:hasRepresentation ?representation ;\n",
    "#        schema:sameAs ?sameAs , <${proteinIRI}>.\n",
    "    bs:${bsAccession} bsp:type [\n",
    "        prov:wasDerivedFrom <${refNodeIRI}> ;\n",
    "        bss:type schema:Protein\n",
    "    ] .\n",
    "    ?refNode pav:retrievedFrom ?source ;\n",
    "        pav:retrievedOn ?date .\n",
    "}\n",
    "WHERE {\n",
    "    GRAPH ?g {\n",
    "# Bioschemas Minimal Properties\n",
    "        <${proteinIRI}> a schema:Protein .#;\n",
    "#            schema:identifier ?identifier ;\n",
    "#            schema:name ?name ;\n",
    "# Bioschemas Recommended properties\n",
    "#            schema:hasSequenceAnnotation ?annotation ;\n",
    "#            schema:taxonomicRange ?taxonomicRange ;\n",
    "# Bioschemas Optional properties\n",
    "#            schema:sameAs ?sameAs .\n",
    "#        OPTIONAL {<${proteinIRI}> schema:hasRepresentation ?representation }\n",
    "        ?g pav:retrievedFrom ?source ;\n",
    "            pav:retrievedOn ?date .\n",
    "    }\n",
    "}\n",
    "\"\"\")"
   ]
  },
  {
   "cell_type": "markdown",
   "metadata": {},
   "source": [
    "Method for creating the KG entity and its metadata using the templated queries above."
   ]
  },
  {
   "cell_type": "code",
   "execution_count": null,
   "metadata": {},
   "outputs": [],
   "source": [
    "def createKGEntity(g, protein, uniprot):\n",
    "    kgEntity = Graph()\n",
    "    # Extract UniProt accession to use as an identifier in the Bioschemas namespace\n",
    "    accession = uniprot[uniprot.rindex('/')+1:]\n",
    "    query = createEntityQuery.substitute(proteinIRI=protein,bsAccession=accession)\n",
    "    kgEntity += g.query(query)\n",
    "    kgEntity += g.query(retrieveAnnotationsQuery)\n",
    "    kgEntity += g.query(retrievePropertyValueQuery)\n",
    "    kgEntity += g.query(retrieveSequenceRangeQuery)\n",
    "#    # Attempt to generate provenance statements as per Wikidata\n",
    "#     u = uuid.uuid1()\n",
    "#     refNode = \"https://bioschemas.org/reference/\" + accession + \"-\" + str(u)\n",
    "#     query = createEntityProvenanceQuery.substitute(proteinIRI=protein,bsAccession=accession,refNodeIRI=refNode)\n",
    "#     print(query)\n",
    "#     kgEntity += g.query(query)\n",
    "    return kgEntity"
   ]
  },
  {
   "cell_type": "markdown",
   "metadata": {},
   "source": [
    "Function to extract just the triples that IDPCentral are using in their UI"
   ]
  },
  {
   "cell_type": "code",
   "execution_count": null,
   "metadata": {},
   "outputs": [],
   "source": [
    "idpQuery = \"\"\"\n",
    "PREFIX idp: <https://example.com/ipd/>\n",
    "PREFIX pav: <http://purl.org/pav/>\n",
    "PREFIX schema: <https://schema.org/>\n",
    "CONSTRUCT {\n",
    "    ?entry_url idp:name ?entry_name ;\n",
    "        idp:identifier ?entry_id ;\n",
    "        idp:sameAs ?uniprot_acc ;\n",
    "        idp:sequence_range [\n",
    "            idp:sequence_id ?sequenceID ;\n",
    "            idp:start ?start ;\n",
    "            idp:end ?end ;\n",
    "            idp:range_annotation ?range_annotation\n",
    "        ] ;\n",
    "        idp:resource_name ?source ;\n",
    "        idp:last_update ?date.\n",
    "}\n",
    "WHERE {\n",
    "    GRAPH ?g {\n",
    "        ?entry_url a schema:Protein ;\n",
    "            schema:name ?entry_name ;\n",
    "            schema:identifier ?entry_id ;\n",
    "            schema:hasSequenceAnnotation ?sequenceID ;\n",
    "            schema:sameAs ?uniprot_acc .\n",
    "        FILTER regex(str(?uniprot_acc), \"^(https://www|http://purl).uniprot.org/uniprot/\")\n",
    "        ?sequenceID schema:sequenceLocation ?sequenceLocation ;\n",
    "                  schema:additionalProperty/schema:value/schema:name ?range_annotation .\n",
    "        ?sequenceLocation schema:rangeStart ?start ;\n",
    "            schema:rangeEnd ?end.\n",
    "        ?g pav:retrievedFrom ?source ;\n",
    "            pav:retrievedOn ?date .\n",
    "    }\n",
    "}\n",
    "\"\"\"\n",
    "def idpExtraction(g):\n",
    "    return g.query(idpQuery)"
   ]
  },
  {
   "cell_type": "markdown",
   "metadata": {},
   "source": [
    "Function to run over all files in a specified directory"
   ]
  },
  {
   "cell_type": "code",
   "execution_count": null,
   "metadata": {},
   "outputs": [],
   "source": [
    "def processDataFiles(idpKG, idpModel, directoryLocation):\n",
    "    processed = 0\n",
    "    for file in glob(directoryLocation + \"*.nq\"):\n",
    "        print(\"\\tProcessing file: %s\" % file)\n",
    "        g = ConjunctiveGraph()\n",
    "        g.parse(file, format=\"nquads\")\n",
    "        print(\"\\tSource has %s statements.\" % len(g))\n",
    "        # Extract statements for IDPCentral\n",
    "        idpModel += idpExtraction(g)\n",
    "        print(\"\\tIDPcentral has %s statements.\" % len(idpModel))\n",
    "        # Extract DisProt and UniProt IRIs\n",
    "        results = g.query(idQuery)\n",
    "#         print(\"\\tID query result has %s statements.\" % len(results))\n",
    "        # Convert to IDPCentral model\n",
    "        for result in results:\n",
    "#             print(\"\\tProtein: %s\\n\\tUniProt: %s\" % (result['proteinIRI'], result['uniprot']))\n",
    "            resGraph = createKGEntity(g, result['proteinIRI'], result['uniprot'])\n",
    "#             print(\"\\tconvert query has %s statements.\" % len(resGraph))\n",
    "            idpKG += resGraph\n",
    "            print(\"\\tIDPKG has %s statements.\" % len(idpKG))\n",
    "        processed += 1\n",
    "    return processed"
   ]
  },
  {
   "cell_type": "markdown",
   "metadata": {},
   "source": [
    "Function to output data files for a graph"
   ]
  },
  {
   "cell_type": "code",
   "execution_count": null,
   "metadata": {},
   "outputs": [],
   "source": [
    "def outputFiles(graph, label):\n",
    "    # print(graph.serialize(format='nt'))\n",
    "    print(\"%s has %s statements.\" % (label, len(graph)))\n",
    "    graph.serialize(label+'.nt', format='nt')\n",
    "    graph.serialize(label+'.jsonld', format='json-ld')\n",
    "    print('Successfully written all triples to %s.nt' % label)"
   ]
  },
  {
   "cell_type": "markdown",
   "metadata": {},
   "source": [
    "Read in each nq data file in turn\n",
    "\n",
    "Process each file and convert into IDPCentral model"
   ]
  },
  {
   "cell_type": "code",
   "execution_count": null,
   "metadata": {},
   "outputs": [],
   "source": [
    "idpKG = Graph()\n",
    "idpModel = Graph()\n",
    "totalProcessed = 0\n",
    "\n",
    "print(\"Processing DisProt...\")\n",
    "numberOfFiles = processDataFiles(idpKG, idpModel, \"../scraped-data/disprot/\")\n",
    "print(\"Processed %d files\" % numberOfFiles)\n",
    "totalProcessed += numberOfFiles\n",
    "\n",
    "print(\"Processing MobiDB...\")\n",
    "numberOfFiles = processDataFiles(idpKG, idpModel, \"../scraped-data/mobidb/\")\n",
    "print(\"Processed %d files\" % numberOfFiles)\n",
    "totalProcessed += numberOfFiles\n",
    "\n",
    "print(\"Processing PED...\")\n",
    "numberOfFiles = processDataFiles(idpKG, idpModel, \"../scraped-data/ped/\")\n",
    "print(\"Processed %d files\" % numberOfFiles)\n",
    "totalProcessed += numberOfFiles\n",
    "\n",
    "outputFiles(idpModel, \"IDPCentral\")\n",
    "outputFiles(idpKG, \"IDPKG\")\n",
    "print('Processed %d files' % totalProcessed)\n",
    "\n",
    "assert (totalProcessed == 8), \"Expected 8 data files to be present!\"\n",
    "assert (len(idpKG) == 204), \"Expected 204 statements in IDP KG!\"\n",
    "assert (len(idpModel) == 58), \"Expected 58 statements in IDPcentral Model!\"\n",
    "print('File processing finished successfully!')"
   ]
  },
  {
   "cell_type": "markdown",
   "metadata": {},
   "source": [
    "Expecting:\n",
    "- 8 files to have been procesed\n",
    "  - 3 from DisProt\n",
    "  - 2 from MobiDB\n",
    "  - 3 from PED\n",
    "- IDPKG should have 116 statements\n",
    "  - DisProt\n",
    "    - 53 after 2241.nq\n",
    "    - 91 after 2243.nq\n",
    "    - no additional statements from 2244.nq\n",
    "  - mobiDB\n",
    "    - 116 after 4283.nq\n",
    "    - no additional statements from 5729.nq\n",
    "  - IDPKG to have 204 statements\n",
    "    - 134 statements after 6000.nq\n",
    "    - 169 statements after 6001.nq\n",
    "    - 204 statements after 5999.nq\n",
    "- IDPCentral should have 58 statements"
   ]
  },
  {
   "cell_type": "markdown",
   "metadata": {},
   "source": [
    "### Incorporating PED into the Pipeline\n",
    "\n",
    "File 6000.nq corresponds to entry [PED00148](https://proteinensemble.org/PED00148). There is valid markup on the page. Something in BMUSE is preventing this from coming through to the scraped data.\n",
    "\n",
    "File 5999.nq corresponds to entry [PED00001](http://proteinensemble.org/PED00001). The markup shows one protein component.\n",
    "\n",
    "File 6001.nq corresponds to entry [PED00174](http://proteinensemble.org/PED00174). The markup shows 3 protein components.\n",
    "\n",
    "- [X] Follow up with Petros as to whether BMUSE fixes mean that a new scrape of this content would now work.\n",
    "- [ ] Rescraped data uses same IRI for DataRecord and BioChemEntity; BioChemEntity needs `#DR` removed from the `@id` value\n",
    "- [ ] `createdWith` needs to be a IRI, it can have values from it\n",
    "- [ ] Use of `#DR` has undesirable effect for BMUSE's use of `retrieveFrom`"
   ]
  },
  {
   "cell_type": "markdown",
   "metadata": {},
   "source": [
    "## Querying the IDPKG"
   ]
  },
  {
   "cell_type": "code",
   "execution_count": null,
   "metadata": {},
   "outputs": [],
   "source": [
    "def displayResults(results):\n",
    "    for row in results.bindings:\n",
    "        for col in row:\n",
    "            print(col, row[col], end = '\\t')\n",
    "        print()"
   ]
  },
  {
   "cell_type": "code",
   "execution_count": null,
   "metadata": {},
   "outputs": [],
   "source": [
    "# print(\"json\", result.serialize(format=\"json\"))\n",
    "# for row in result:\n",
    "#     print(row)\n",
    "# print(result.serialize(format=\"json\"))"
   ]
  },
  {
   "cell_type": "markdown",
   "metadata": {},
   "source": [
    "### Find proteins in multiple datasets\n",
    "\n",
    "Provenance information about the sources of triples has been included as a direct assertion on the protein resource. It will include multiple declarations if the triples about the protein have come from multiple pages. We cannot distinguish where any individual statement has come from. \n",
    "\n",
    "To find proteins with multiple sources, we need to group by the protein id and then use a `HAVING` clause to if there are more than two datasets. The datasets can be listed using a `GROUP_CONCAT` oeprator."
   ]
  },
  {
   "cell_type": "code",
   "execution_count": null,
   "metadata": {},
   "outputs": [],
   "source": [
    "proteinQuery = \"\"\"\n",
    "PREFIX schema: <https://schema.org/>\n",
    "PREFIX pav: <http://purl.org/pav/>\n",
    "SELECT ?protein (COUNT(?source) as ?numSources) (GROUP_CONCAT(?source;SEPARATOR=\",\") AS ?sources)\n",
    "WHERE {\n",
    "    ?protein a schema:Protein ;\n",
    "        pav:retrievedFrom ?source .\n",
    "}\n",
    "GROUP BY ?protein\n",
    "HAVING (COUNT(*) > 1)\n",
    "\"\"\"\n",
    "proteins = idpKG.query(proteinQuery)\n",
    "displayResults(proteins)"
   ]
  },
  {
   "cell_type": "code",
   "execution_count": null,
   "metadata": {},
   "outputs": [],
   "source": [
    "for protein in proteins:\n",
    "    print(protein)"
   ]
  },
  {
   "cell_type": "markdown",
   "metadata": {},
   "source": [
    "### Find proteins with annotations in multiple datasets\n",
    "Again we exploit the multiplicity of identifiers to check for multiple datasets. However, we now explicitly check that there are two; again we could add more.\n",
    "\n",
    "Note that we have changed to a `CONSTRUCT` query since we end up with a duplicate rows in a tuple bindings approach since the identifiers can be bound first one way and then the other.\n",
    "\n",
    "#### Problem\n",
    "The problem with this query is that it only checks that the protein appears in both datasets, it does not check that the annotations come from different datasets.\n",
    "\n",
    "#### Possible Solution\n",
    "For each protein and annotation, add a statement stating the sources that it has come from in the data, or alternatively have a named graph per source."
   ]
  },
  {
   "cell_type": "code",
   "execution_count": null,
   "metadata": {},
   "outputs": [],
   "source": [
    "proteinAnnotationQuery = \"\"\"\n",
    "PREFIX schema: <https://schema.org/>\n",
    "CONSTRUCT {\n",
    "    ?protein a schema:Protein ;\n",
    "        schema:name ?proteinName ;\n",
    "        schema:identifier ?id1, ?id2 ;\n",
    "        schema:hasSequenceAnnotation [\n",
    "            schema:description ?annotationDescription \n",
    "        ].\n",
    "}\n",
    "WHERE {\n",
    "    ?protein a schema:Protein ;\n",
    "        schema:name ?proteinName ;\n",
    "        schema:identifier ?id1, ?id2 ;\n",
    "        schema:hasSequenceAnnotation ?annotation .\n",
    "    OPTIONAL {?annotation schema:description ?annotationDescription }\n",
    "    FILTER (?id1 != ?id2) .\n",
    "}\n",
    "    \n",
    "\"\"\"\n",
    "print(idpKG.query(proteinAnnotationQuery).serialize(format='n3'))"
   ]
  },
  {
   "cell_type": "markdown",
   "metadata": {},
   "source": [
    "### Find proteins  with annotations in only one source"
   ]
  },
  {
   "cell_type": "code",
   "execution_count": null,
   "metadata": {},
   "outputs": [],
   "source": []
  },
  {
   "cell_type": "markdown",
   "metadata": {},
   "source": [
    "### Find proteins with annotations of type X"
   ]
  },
  {
   "cell_type": "code",
   "execution_count": null,
   "metadata": {},
   "outputs": [],
   "source": []
  },
  {
   "cell_type": "markdown",
   "metadata": {},
   "source": [
    "### Find annotations with identical ranges"
   ]
  },
  {
   "cell_type": "code",
   "execution_count": null,
   "metadata": {},
   "outputs": [],
   "source": []
  },
  {
   "cell_type": "markdown",
   "metadata": {},
   "source": [
    "### Find annotations with overlapping ranges"
   ]
  },
  {
   "cell_type": "code",
   "execution_count": null,
   "metadata": {},
   "outputs": [],
   "source": []
  }
 ],
 "metadata": {
  "kernelspec": {
   "display_name": "Python 3",
   "language": "python",
   "name": "python3"
  },
  "language_info": {
   "codemirror_mode": {
    "name": "ipython",
    "version": 3
   },
   "file_extension": ".py",
   "mimetype": "text/x-python",
   "name": "python",
   "nbconvert_exporter": "python",
   "pygments_lexer": "ipython3",
   "version": "3.6.5"
  },
  "toc": {
   "base_numbering": 1,
   "nav_menu": {},
   "number_sections": true,
   "sideBar": true,
   "skip_h1_title": false,
   "title_cell": "Table of Contents",
   "title_sidebar": "Contents",
   "toc_cell": false,
   "toc_position": {},
   "toc_section_display": true,
   "toc_window_display": false
  }
 },
 "nbformat": 4,
 "nbformat_minor": 2
}
